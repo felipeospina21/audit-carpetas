{
 "cells": [
  {
   "cell_type": "code",
   "execution_count": 52,
   "metadata": {},
   "outputs": [],
   "source": [
    "import pandas as pd\n",
    "import numpy as np\n",
    "import os\n",
    "import glob"
   ]
  },
  {
   "cell_type": "code",
   "execution_count": 41,
   "metadata": {},
   "outputs": [
    {
     "output_type": "execute_result",
     "data": {
      "text/plain": "  Etiquetas de fila                PD Creado por  \\\n0        6200034726   RUBEN ARTURO PELAEZ OSORIO   \n1        6200034999      MATEO DE LA CRUZ TORRES   \n2        6200035000      MATEO DE LA CRUZ TORRES   \n3        6200035044  YERICA ASTRID AGUDELO REYES   \n4        6200034713      MATEO DE LA CRUZ TORRES   \n\n               Nombre Proveedor  Suma de TOTAL en COP  \n0                  HATCH S.A.S.             680178027  \n1  SLR CONSULTING (CANADA) LTD.             486920000  \n2  SLR CONSULTING (CANADA) LTD.             435490000  \n3   IBM DE COLOMBIA & CIA S C A             395251857  \n4            DELOITTE & CO S.A.             386960800  ",
      "text/html": "<div>\n<style scoped>\n    .dataframe tbody tr th:only-of-type {\n        vertical-align: middle;\n    }\n\n    .dataframe tbody tr th {\n        vertical-align: top;\n    }\n\n    .dataframe thead th {\n        text-align: right;\n    }\n</style>\n<table border=\"1\" class=\"dataframe\">\n  <thead>\n    <tr style=\"text-align: right;\">\n      <th></th>\n      <th>Etiquetas de fila</th>\n      <th>PD Creado por</th>\n      <th>Nombre Proveedor</th>\n      <th>Suma de TOTAL en COP</th>\n    </tr>\n  </thead>\n  <tbody>\n    <tr>\n      <th>0</th>\n      <td>6200034726</td>\n      <td>RUBEN ARTURO PELAEZ OSORIO</td>\n      <td>HATCH S.A.S.</td>\n      <td>680178027</td>\n    </tr>\n    <tr>\n      <th>1</th>\n      <td>6200034999</td>\n      <td>MATEO DE LA CRUZ TORRES</td>\n      <td>SLR CONSULTING (CANADA) LTD.</td>\n      <td>486920000</td>\n    </tr>\n    <tr>\n      <th>2</th>\n      <td>6200035000</td>\n      <td>MATEO DE LA CRUZ TORRES</td>\n      <td>SLR CONSULTING (CANADA) LTD.</td>\n      <td>435490000</td>\n    </tr>\n    <tr>\n      <th>3</th>\n      <td>6200035044</td>\n      <td>YERICA ASTRID AGUDELO REYES</td>\n      <td>IBM DE COLOMBIA &amp; CIA S C A</td>\n      <td>395251857</td>\n    </tr>\n    <tr>\n      <th>4</th>\n      <td>6200034713</td>\n      <td>MATEO DE LA CRUZ TORRES</td>\n      <td>DELOITTE &amp; CO S.A.</td>\n      <td>386960800</td>\n    </tr>\n  </tbody>\n</table>\n</div>"
     },
     "metadata": {},
     "execution_count": 41
    }
   ],
   "source": [
    "df = pd.read_excel('C:/Documentos Empresa/OneDrive - MINEROS/Desktop/INDICADORES/2020/Mayo/indicadores_servicios(Mayo).xlsx', sheet_name='oc', skiprows=[0,1]) #, index_col=0)\n",
    "df.head()"
   ]
  },
  {
   "cell_type": "code",
   "execution_count": 43,
   "metadata": {},
   "outputs": [
    {
     "output_type": "execute_result",
     "data": {
      "text/plain": "    Etiquetas de fila                PD Creado por  \\\n58         6200034555  YERICA ASTRID AGUDELO REYES   \n59         6200034968  YERICA ASTRID AGUDELO REYES   \n60         6200034516  YERICA ASTRID AGUDELO REYES   \n61         6200034820  YERICA ASTRID AGUDELO REYES   \n509     Total general                          NaN   \n\n                   Nombre Proveedor  Suma de TOTAL en COP  \n58   OUTSOURCING HYDRAULICS SYSTEMS              18462000  \n59          MANTILLA GARZON RICARDO              18400000  \n60   G.M.GRUPO MULTISERVICIOS S.A.S              18079738  \n61   SERVICIOS AMBIENTALES DE LA SA              17578333  \n509                             NaN            7841955565  ",
      "text/html": "<div>\n<style scoped>\n    .dataframe tbody tr th:only-of-type {\n        vertical-align: middle;\n    }\n\n    .dataframe tbody tr th {\n        vertical-align: top;\n    }\n\n    .dataframe thead th {\n        text-align: right;\n    }\n</style>\n<table border=\"1\" class=\"dataframe\">\n  <thead>\n    <tr style=\"text-align: right;\">\n      <th></th>\n      <th>Etiquetas de fila</th>\n      <th>PD Creado por</th>\n      <th>Nombre Proveedor</th>\n      <th>Suma de TOTAL en COP</th>\n    </tr>\n  </thead>\n  <tbody>\n    <tr>\n      <th>58</th>\n      <td>6200034555</td>\n      <td>YERICA ASTRID AGUDELO REYES</td>\n      <td>OUTSOURCING HYDRAULICS SYSTEMS</td>\n      <td>18462000</td>\n    </tr>\n    <tr>\n      <th>59</th>\n      <td>6200034968</td>\n      <td>YERICA ASTRID AGUDELO REYES</td>\n      <td>MANTILLA GARZON RICARDO</td>\n      <td>18400000</td>\n    </tr>\n    <tr>\n      <th>60</th>\n      <td>6200034516</td>\n      <td>YERICA ASTRID AGUDELO REYES</td>\n      <td>G.M.GRUPO MULTISERVICIOS S.A.S</td>\n      <td>18079738</td>\n    </tr>\n    <tr>\n      <th>61</th>\n      <td>6200034820</td>\n      <td>YERICA ASTRID AGUDELO REYES</td>\n      <td>SERVICIOS AMBIENTALES DE LA SA</td>\n      <td>17578333</td>\n    </tr>\n    <tr>\n      <th>509</th>\n      <td>Total general</td>\n      <td>NaN</td>\n      <td>NaN</td>\n      <td>7841955565</td>\n    </tr>\n  </tbody>\n</table>\n</div>"
     },
     "metadata": {},
     "execution_count": 43
    }
   ],
   "source": [
    "df = df[df['Suma de TOTAL en COP'] > 17556060]\n",
    "df.tail()"
   ]
  },
  {
   "cell_type": "code",
   "execution_count": 46,
   "metadata": {},
   "outputs": [],
   "source": [
    "df['carpeta'] = df['Etiquetas de fila'].apply(lambda x: os.path.exists(f'//Nasestrella/oc/2020/Servicios/{x}'))"
   ]
  },
  {
   "cell_type": "code",
   "execution_count": 51,
   "metadata": {},
   "outputs": [],
   "source": [
    "# Cambiar el index por las ordenes de compra\n",
    "# df.drop(axis=0, index='Total general', inplace=True)\n",
    "# df.head()"
   ]
  },
  {
   "cell_type": "code",
   "execution_count": 54,
   "metadata": {},
   "outputs": [
    {
     "output_type": "execute_result",
     "data": {
      "text/plain": "  Etiquetas de fila                PD Creado por  \\\n0        6200034726   RUBEN ARTURO PELAEZ OSORIO   \n1        6200034999      MATEO DE LA CRUZ TORRES   \n2        6200035000      MATEO DE LA CRUZ TORRES   \n3        6200035044  YERICA ASTRID AGUDELO REYES   \n4        6200034713      MATEO DE LA CRUZ TORRES   \n\n               Nombre Proveedor  Suma de TOTAL en COP  carpeta  \\\n0                  HATCH S.A.S.             680178027     True   \n1  SLR CONSULTING (CANADA) LTD.             486920000    False   \n2  SLR CONSULTING (CANADA) LTD.             435490000    False   \n3   IBM DE COLOMBIA & CIA S C A             395251857    False   \n4            DELOITTE & CO S.A.             386960800    False   \n\n                                            archivos  \n0  [//Nasestrella/oc/2020/Servicios/6200034726\\SP...  \n1                                                 []  \n2                                                 []  \n3                                                 []  \n4                                                 []  ",
      "text/html": "<div>\n<style scoped>\n    .dataframe tbody tr th:only-of-type {\n        vertical-align: middle;\n    }\n\n    .dataframe tbody tr th {\n        vertical-align: top;\n    }\n\n    .dataframe thead th {\n        text-align: right;\n    }\n</style>\n<table border=\"1\" class=\"dataframe\">\n  <thead>\n    <tr style=\"text-align: right;\">\n      <th></th>\n      <th>Etiquetas de fila</th>\n      <th>PD Creado por</th>\n      <th>Nombre Proveedor</th>\n      <th>Suma de TOTAL en COP</th>\n      <th>carpeta</th>\n      <th>archivos</th>\n    </tr>\n  </thead>\n  <tbody>\n    <tr>\n      <th>0</th>\n      <td>6200034726</td>\n      <td>RUBEN ARTURO PELAEZ OSORIO</td>\n      <td>HATCH S.A.S.</td>\n      <td>680178027</td>\n      <td>True</td>\n      <td>[//Nasestrella/oc/2020/Servicios/6200034726\\SP...</td>\n    </tr>\n    <tr>\n      <th>1</th>\n      <td>6200034999</td>\n      <td>MATEO DE LA CRUZ TORRES</td>\n      <td>SLR CONSULTING (CANADA) LTD.</td>\n      <td>486920000</td>\n      <td>False</td>\n      <td>[]</td>\n    </tr>\n    <tr>\n      <th>2</th>\n      <td>6200035000</td>\n      <td>MATEO DE LA CRUZ TORRES</td>\n      <td>SLR CONSULTING (CANADA) LTD.</td>\n      <td>435490000</td>\n      <td>False</td>\n      <td>[]</td>\n    </tr>\n    <tr>\n      <th>3</th>\n      <td>6200035044</td>\n      <td>YERICA ASTRID AGUDELO REYES</td>\n      <td>IBM DE COLOMBIA &amp; CIA S C A</td>\n      <td>395251857</td>\n      <td>False</td>\n      <td>[]</td>\n    </tr>\n    <tr>\n      <th>4</th>\n      <td>6200034713</td>\n      <td>MATEO DE LA CRUZ TORRES</td>\n      <td>DELOITTE &amp; CO S.A.</td>\n      <td>386960800</td>\n      <td>False</td>\n      <td>[]</td>\n    </tr>\n  </tbody>\n</table>\n</div>"
     },
     "metadata": {},
     "execution_count": 54
    }
   ],
   "source": [
    "df['archivos'] = df['Etiquetas de fila'].apply(lambda x: glob.glob(f'//Nasestrella/oc/2020/Servicios/{x}/*'))\n",
    "df.head()"
   ]
  },
  {
   "cell_type": "code",
   "execution_count": 55,
   "metadata": {},
   "outputs": [
    {
     "output_type": "execute_result",
     "data": {
      "text/plain": "['//Nasestrella/oc/2020/Servicios/6200034726\\\\SP 20025545 MVG.msg',\n '//Nasestrella/oc/2020/Servicios/6200034726\\\\H352517 - Jacaranda Contracts Review Change Order (1).pdf',\n '//Nasestrella/oc/2020/Servicios/6200034726\\\\JUR-FOR-005M Solicitud Modificacion Min (1) (1).docx',\n '//Nasestrella/oc/2020/Servicios/6200034726\\\\H352517 - Jacaranda Contracts Review Change Order (1) (1).pdf',\n '//Nasestrella/oc/2020/Servicios/6200034726\\\\Hatch - FE13323.pdf',\n '//Nasestrella/oc/2020/Servicios/6200034726\\\\SP 20025545-010.xlsx',\n '//Nasestrella/oc/2020/Servicios/6200034726\\\\MOR.msg']"
     },
     "metadata": {},
     "execution_count": 55
    }
   ],
   "source": [
    "glob.glob('//Nasestrella/oc/2020/Servicios/6200034726/*')"
   ]
  },
  {
   "cell_type": "code",
   "execution_count": null,
   "metadata": {},
   "outputs": [],
   "source": []
  }
 ],
 "metadata": {
  "language_info": {
   "codemirror_mode": {
    "name": "ipython",
    "version": 3
   },
   "file_extension": ".py",
   "mimetype": "text/x-python",
   "name": "python",
   "nbconvert_exporter": "python",
   "pygments_lexer": "ipython3",
   "version": "3.7.3-final"
  },
  "orig_nbformat": 2,
  "kernelspec": {
   "name": "python37364bit6acdefafe26e4ef9b6858b30dddcd45c",
   "display_name": "Python 3.7.3 64-bit"
  }
 },
 "nbformat": 4,
 "nbformat_minor": 2
}